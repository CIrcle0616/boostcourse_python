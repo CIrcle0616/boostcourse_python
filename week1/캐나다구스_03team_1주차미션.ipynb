{
 "cells": [
  {
   "cell_type": "markdown",
   "metadata": {},
   "source": [
    "# 1주차 미션\n"
   ]
  },
  {
   "cell_type": "markdown",
   "metadata": {},
   "source": [
    "## Q1. 파이썬으로 할 수 있는 일, 나는 무엇을 하고 싶은가?\n",
    "\n"
   ]
  },
  {
   "cell_type": "markdown",
   "metadata": {},
   "source": [
    "> 짱새님>파이썬을 통해서 데이터 분석, 머신 러닝, 매크로 구현, 프로그래밍 등이 가능하다.    \n",
    " 연구실에서 실험을 통해 얻어지는 데이터들을 분석하여 그룹을 특정할 수 있는 결정인자를 찾고싶다.\n",
    ">\n",
    ">배현우님>인공지는 개발, 웹 프로그래밍, 그리고 데이터 분석 등 여러 분야에서 활용되고 있고, AI와 관련된 머신러닝과 딥러닝에 관한 일을 하고 싶다.    \n",
    ">\n",
    ">UHD님>파이썬은 예약어 명령어 변수등을을 이용 프로그램을 짜면 파이썬 컴퓨터가 알아들을 수 있는 기계어 명령어로 바꾸어 주는 인터프리터방식의 프로그래밍 언어이다.  파이썬은 다른 언어에 비해 배우기 싶고 단순하지만 많은 과학적인 라이브러리를 갖고 있어 요즘 들어 AI 데이터 처리에 많이 활용되고 있다. 파이썬을 잘 배워 AI관련 솔루션을 잘 만들고 싶다.\n",
    "*****"
   ]
  },
  {
   "cell_type": "markdown",
   "metadata": {},
   "source": [
    "## Q2. 하드웨어 아키텍쳐에서 CPU와 Main Memory 그리고 Secondary Memory의 역할을 간단하게 정리하면?\n",
    "\n"
   ]
  },
  {
   "cell_type": "markdown",
   "metadata": {},
   "source": [
    "> CPU: 인간의 두뇌와 같은 역할을 담당하고, 프로그램을 실행한다. 그 다음 명령을 계속해서 물으며 사용자가 입력한 값을 해석, 연산하고 그 결과를 출력한다.\n",
    ">\n",
    "> Main Memory: CPU가 다음에 처리할 프로그램을 임시저장 하는 메모리로 휘발성이며 속도가 매우 빠르다.\n",
    ">\n",
    "> Secondary Memory: 보조기억장치로 HDD,SSD등이 이에 해당한다. 비휘발성이고 용량이 커 사용하지 않고 있는 데이터를 저장하기에 유용하다.\n",
    "\n",
    "*****"
   ]
  },
  {
   "cell_type": "markdown",
   "metadata": {},
   "source": [
    "## Q3. 파이썬의 에러메시지를 출력하는 코드를 만들고 디버깅해보자"
   ]
  },
  {
   "cell_type": "markdown",
   "id": "17e11d3c",
   "metadata": {},
   "source": [
    "#### 1. SyntaxError는 파이썬의 규칙을 틀렸을때 나는 에러 입니다."
   ]
  },
  {
   "cell_type": "code",
   "execution_count": null,
   "metadata": {},
   "outputs": [],
   "source": []
  },
  {
   "cell_type": "code",
   "execution_count": 4,
   "id": "a7694816",
   "metadata": {},
   "outputs": [
    {
     "ename": "SyntaxError",
     "evalue": "invalid syntax (2437449550.py, line 2)",
     "output_type": "error",
     "traceback": [
      "\u001b[0;36m  Input \u001b[0;32mIn [4]\u001b[0;36m\u001b[0m\n\u001b[0;31m    a === 1 # ===라는 없는 예약어를 사용할때\u001b[0m\n\u001b[0m        ^\u001b[0m\n\u001b[0;31mSyntaxError\u001b[0m\u001b[0;31m:\u001b[0m invalid syntax\n"
     ]
    }
   ],
   "source": [
    "# SyntaxError1: \n",
    "a === 1 # ===라는 없는 예약어를 사용할때"
   ]
  },
  {
   "cell_type": "code",
   "execution_count": 5,
   "id": "caf0fdd4",
   "metadata": {},
   "outputs": [],
   "source": [
    "# Debugging: SyntaxError1:\n",
    "a = 1  # 문법에 있는 예약어만 쓴다."
   ]
  },
  {
   "cell_type": "code",
   "execution_count": 6,
   "id": "3554dfaf",
   "metadata": {},
   "outputs": [
    {
     "ename": "SyntaxError",
     "evalue": "cannot assign to literal (1960202348.py, line 2)",
     "output_type": "error",
     "traceback": [
      "\u001b[0;36m  Input \u001b[0;32mIn [6]\u001b[0;36m\u001b[0m\n\u001b[0;31m    1 = 2 #왼쪽의 1은 변수가 아닌 상수이기에 대입이 안된다.\u001b[0m\n\u001b[0m    ^\u001b[0m\n\u001b[0;31mSyntaxError\u001b[0m\u001b[0;31m:\u001b[0m cannot assign to literal\n"
     ]
    }
   ],
   "source": [
    "# SyntaxError2: \n",
    "1 = 2 #왼쪽의 1은 변수가 아닌 상수이기에 대입이 안된다.\n"
   ]
  },
  {
   "cell_type": "code",
   "execution_count": null,
   "id": "90e072ec",
   "metadata": {},
   "outputs": [],
   "source": [
    "#Debugging SyntaxError2:\n",
    "a=2  # 디버깅: 변수인 a에 대입하면 문제없다"
   ]
  },
  {
   "cell_type": "code",
   "execution_count": null,
   "id": "a9c5c61b",
   "metadata": {},
   "outputs": [
    {
     "ename": "SyntaxError",
     "evalue": "invalid syntax (Temp/ipykernel_21836/1514441348.py, line 2)",
     "output_type": "error",
     "traceback": [
      "\u001b[1;36m  File \u001b[1;32m\"C:\\Users\\dtv\\AppData\\Local\\Temp/ipykernel_21836/1514441348.py\"\u001b[1;36m, line \u001b[1;32m2\u001b[0m\n",
      "\u001b[1;33m    if 1<9  # 조건문이 세미콜론으로 안 끝난경우 문법에러\u001b[0m\n",
      "\u001b[1;37m            ^\u001b[0m\n",
      "\u001b[1;31mSyntaxError\u001b[0m\u001b[1;31m:\u001b[0m invalid syntax\n"
     ]
    }
   ],
   "source": [
    "#SynteaErro3-1:\n",
    "if 1<9  # 조건문이 세미콜론으로 안 끝난경우 문법에러\n",
    "    i=1"
   ]
  },
  {
   "cell_type": "code",
   "execution_count": null,
   "id": "767cf975",
   "metadata": {},
   "outputs": [
    {
     "ename": "SyntaxError",
     "evalue": "invalid syntax (Temp/ipykernel_21836/3202532384.py, line 2)",
     "output_type": "error",
     "traceback": [
      "\u001b[1;36m  File \u001b[1;32m\"C:\\Users\\dtv\\AppData\\Local\\Temp/ipykernel_21836/3202532384.py\"\u001b[1;36m, line \u001b[1;32m2\u001b[0m\n",
      "\u001b[1;33m    if :  # 조건문에 조건을 안쓴경우 문법에러\u001b[0m\n",
      "\u001b[1;37m       ^\u001b[0m\n",
      "\u001b[1;31mSyntaxError\u001b[0m\u001b[1;31m:\u001b[0m invalid syntax\n"
     ]
    }
   ],
   "source": [
    "#SynteaErro3-2: \n",
    "if :  # 조건문에 조건을 안쓴경우 문법에러\n",
    "    i=1"
   ]
  },
  {
   "cell_type": "code",
   "execution_count": null,
   "id": "0ba197bf",
   "metadata": {},
   "outputs": [],
   "source": [
    "#debugging SynteaErro3: \n",
    "if 1<9:  #조건문 뒤에 조건을 쓰고 세미콜론으로 마친다.:\n",
    "    i=1"
   ]
  },
  {
   "cell_type": "code",
   "execution_count": null,
   "id": "5242081c",
   "metadata": {},
   "outputs": [
    {
     "ename": "ValueError",
     "evalue": "invalid literal for int() with base 10: '3.9'",
     "output_type": "error",
     "traceback": [
      "\u001b[1;31m---------------------------------------------------------------------------\u001b[0m\n",
      "\u001b[1;31mValueError\u001b[0m                                Traceback (most recent call last)\n",
      "\u001b[1;32m~\\AppData\\Local\\Temp/ipykernel_21836/1161638092.py\u001b[0m in \u001b[0;36m<module>\u001b[1;34m\u001b[0m\n",
      "\u001b[0;32m      1\u001b[0m \u001b[1;31m#ValueError2:\u001b[0m\u001b[1;33m\u001b[0m\u001b[1;33m\u001b[0m\u001b[1;33m\u001b[0m\u001b[0m\n",
      "\u001b[1;32m----> 2\u001b[1;33m \u001b[0ma\u001b[0m\u001b[1;33m=\u001b[0m\u001b[0mint\u001b[0m\u001b[1;33m(\u001b[0m\u001b[1;34m'3.9'\u001b[0m\u001b[1;33m)\u001b[0m  \u001b[1;31m#'3.9'를 정수로 바꿀 수 없다\u001b[0m\u001b[1;33m\u001b[0m\u001b[1;33m\u001b[0m\u001b[0m\n",
      "\u001b[0m\n",
      "\u001b[1;31mValueError\u001b[0m: invalid literal for int() with base 10: '3.9'"
     ]
    }
   ],
   "source": [
    "#ValueError2:\n",
    "a=int('3.9')  #'3.9'를 정수로 바꿀 수 없다"
   ]
  },
  {
   "cell_type": "code",
   "execution_count": null,
   "id": "2934c63a",
   "metadata": {},
   "outputs": [],
   "source": [
    "#Debugging ValueError2:\n",
    "a=float('3.9') #'3.9'는 실수로 바꿀 수 있다."
   ]
  },
  {
   "cell_type": "markdown",
   "id": "ebf24a7f",
   "metadata": {},
   "source": [
    "#### 2. ValueError는 부적절한 값을 가진 인자를 받았을 때 발생하는 에러"
   ]
  },
  {
   "cell_type": "code",
   "execution_count": null,
   "id": "a9adff54",
   "metadata": {},
   "outputs": [
    {
     "ename": "ValueError",
     "evalue": "invalid literal for int() with base 10: 'babo'",
     "output_type": "error",
     "traceback": [
      "\u001b[1;31m---------------------------------------------------------------------------\u001b[0m\n",
      "\u001b[1;31mValueError\u001b[0m                                Traceback (most recent call last)\n",
      "\u001b[1;32m~\\AppData\\Local\\Temp/ipykernel_21836/3002301262.py\u001b[0m in \u001b[0;36m<module>\u001b[1;34m\u001b[0m\n",
      "\u001b[0;32m      1\u001b[0m \u001b[1;31m# ValueError1:\u001b[0m\u001b[1;33m\u001b[0m\u001b[1;33m\u001b[0m\u001b[1;33m\u001b[0m\u001b[0m\n",
      "\u001b[1;32m----> 2\u001b[1;33m \u001b[0mint\u001b[0m\u001b[1;33m(\u001b[0m\u001b[1;34m'babo'\u001b[0m\u001b[1;33m)\u001b[0m  \u001b[1;31m#int() 클래스는 정수를 받아야 하는데 스트링값을 넣었으니 에러\u001b[0m\u001b[1;33m\u001b[0m\u001b[1;33m\u001b[0m\u001b[0m\n",
      "\u001b[0m\n",
      "\u001b[1;31mValueError\u001b[0m: invalid literal for int() with base 10: 'babo'"
     ]
    }
   ],
   "source": [
    "# ValueError1: \n",
    "int('babo')  #int() 클래스는 정수를 받아야 하는데 스트링값을 넣었으니 에러"
   ]
  },
  {
   "cell_type": "code",
   "execution_count": null,
   "id": "4badda80",
   "metadata": {},
   "outputs": [
    {
     "data": {
      "text/plain": [
       "1"
      ]
     },
     "metadata": {},
     "output_type": "display_data"
    }
   ],
   "source": [
    "#Debugging \n",
    "int(1)  #정수를 넣어주면 문제 해결"
   ]
  },
  {
   "cell_type": "markdown",
   "id": "3c5e7d85",
   "metadata": {},
   "source": [
    "#### 3. TypeError:"
   ]
  },
  {
   "cell_type": "code",
   "execution_count": null,
   "id": "96f8547d",
   "metadata": {},
   "outputs": [
    {
     "ename": "TypeError",
     "evalue": "can only concatenate str (not \"int\") to str",
     "output_type": "error",
     "traceback": [
      "\u001b[1;31m---------------------------------------------------------------------------\u001b[0m\n",
      "\u001b[1;31mTypeError\u001b[0m                                 Traceback (most recent call last)\n",
      "\u001b[1;32m~\\AppData\\Local\\Temp/ipykernel_21836/1837672817.py\u001b[0m in \u001b[0;36m<module>\u001b[1;34m\u001b[0m\n",
      "\u001b[0;32m      1\u001b[0m \u001b[1;31m#TypeError1\u001b[0m\u001b[1;33m\u001b[0m\u001b[1;33m\u001b[0m\u001b[1;33m\u001b[0m\u001b[0m\n",
      "\u001b[1;32m----> 2\u001b[1;33m \u001b[1;34m'str'\u001b[0m\u001b[1;33m+\u001b[0m\u001b[1;36m1\u001b[0m  \u001b[1;31m# string 끼리만 더할수 있다 뒤에 정수가 에러\u001b[0m\u001b[1;33m\u001b[0m\u001b[1;33m\u001b[0m\u001b[0m\n",
      "\u001b[0m\n",
      "\u001b[1;31mTypeError\u001b[0m: can only concatenate str (not \"int\") to str"
     ]
    }
   ],
   "source": [
    "#TypeError1\n",
    "'str'+1  # string 끼리만 더할수 있다 뒤에 정수가 에러"
   ]
  },
  {
   "cell_type": "code",
   "execution_count": null,
   "id": "ed4ccbde",
   "metadata": {},
   "outputs": [
    {
     "data": {
      "text/plain": [
       "'str plus str'"
      ]
     },
     "metadata": {},
     "output_type": "display_data"
    }
   ],
   "source": [
    "#Debugging TypeError1\n",
    "'str' + ' plus str' # string 끼리 더해주면 해결"
   ]
  },
  {
   "cell_type": "code",
   "execution_count": null,
   "id": "c3910f4f",
   "metadata": {},
   "outputs": [
    {
     "ename": "TypeError",
     "evalue": "object of type 'int' has no len()",
     "output_type": "error",
     "traceback": [
      "\u001b[1;31m---------------------------------------------------------------------------\u001b[0m\n",
      "\u001b[1;31mTypeError\u001b[0m                                 Traceback (most recent call last)\n",
      "\u001b[1;32m~\\AppData\\Local\\Temp/ipykernel_21836/177867994.py\u001b[0m in \u001b[0;36m<module>\u001b[1;34m\u001b[0m\n",
      "\u001b[0;32m      1\u001b[0m \u001b[1;31m#TypeError2\u001b[0m\u001b[1;33m\u001b[0m\u001b[1;33m\u001b[0m\u001b[1;33m\u001b[0m\u001b[0m\n",
      "\u001b[1;32m----> 2\u001b[1;33m \u001b[0mlen\u001b[0m\u001b[1;33m(\u001b[0m\u001b[1;36m1\u001b[0m\u001b[1;33m)\u001b[0m  \u001b[1;31m#상수1은 정수 이므로 길이가 없다.\u001b[0m\u001b[1;33m\u001b[0m\u001b[1;33m\u001b[0m\u001b[0m\n",
      "\u001b[0m\n",
      "\u001b[1;31mTypeError\u001b[0m: object of type 'int' has no len()"
     ]
    }
   ],
   "source": [
    "#TypeError2\n",
    "len(1)  #상수1은 정수 이므로 길이가 없다."
   ]
  },
  {
   "cell_type": "code",
   "execution_count": null,
   "id": "448437d4",
   "metadata": {},
   "outputs": [
    {
     "data": {
      "text/plain": [
       "3"
      ]
     },
     "metadata": {},
     "output_type": "display_data"
    }
   ],
   "source": [
    "#Debugging TypeError2\n",
    "len('str') # 'str'은 3개의 문자를 가지고 있다."
   ]
  },
  {
   "cell_type": "markdown",
   "id": "e7173e41",
   "metadata": {},
   "source": [
    "#### NameError: 지역변수, 전역 변수 이름을 찾을 수 없는 경우에 NameError 가 발생합니다."
   ]
  },
  {
   "cell_type": "code",
   "execution_count": null,
   "id": "05d384e4",
   "metadata": {},
   "outputs": [
    {
     "ename": "NameError",
     "evalue": "name 'first' is not defined",
     "output_type": "error",
     "traceback": [
      "\u001b[1;31m---------------------------------------------------------------------------\u001b[0m\n",
      "\u001b[1;31mNameError\u001b[0m                                 Traceback (most recent call last)\n",
      "\u001b[1;32m~\\AppData\\Local\\Temp/ipykernel_13008/4124872771.py\u001b[0m in \u001b[0;36m<module>\u001b[1;34m\u001b[0m\n",
      "\u001b[1;32m----> 1\u001b[1;33m \u001b[0mfirst\u001b[0m  \u001b[1;31m#정의되거나 대입되지 않은 변수를 쓰면 찾을수 없어 에러발생\u001b[0m\u001b[1;33m\u001b[0m\u001b[1;33m\u001b[0m\u001b[0m\n",
      "\u001b[0m\n",
      "\u001b[1;31mNameError\u001b[0m: name 'first' is not defined"
     ]
    }
   ],
   "source": [
    "# NameError\n",
    "first  #정의되거나 대입되지 않은 변수를 쓰면 찾을수 없어 에러발생"
   ]
  },
  {
   "cell_type": "code",
   "execution_count": null,
   "id": "365642d3",
   "metadata": {},
   "outputs": [
    {
     "data": {
      "text/plain": [
       "1"
      ]
     },
     "metadata": {},
     "output_type": "display_data"
    }
   ],
   "source": [
    "#Debugginh NameError\n",
    "first =1  #first에 정수 1을 대입시켜 초기화 해준다.\n",
    "first"
   ]
  },
  {
   "cell_type": "markdown",
   "id": "f2c3b176",
   "metadata": {},
   "source": [
    "#### ZeroDivisionError: 0으로 나누면 나는 에러"
   ]
  },
  {
   "cell_type": "code",
   "execution_count": null,
   "id": "6b222731",
   "metadata": {},
   "outputs": [
    {
     "ename": "ZeroDivisionError",
     "evalue": "division by zero",
     "output_type": "error",
     "traceback": [
      "\u001b[1;31m---------------------------------------------------------------------------\u001b[0m\n",
      "\u001b[1;31mZeroDivisionError\u001b[0m                         Traceback (most recent call last)\n",
      "\u001b[1;32m~\\AppData\\Local\\Temp/ipykernel_21836/623508855.py\u001b[0m in \u001b[0;36m<module>\u001b[1;34m\u001b[0m\n",
      "\u001b[0;32m      1\u001b[0m \u001b[1;31m# ZeroDivisionError: 0으로 나누면 나는 에러\u001b[0m\u001b[1;33m\u001b[0m\u001b[1;33m\u001b[0m\u001b[1;33m\u001b[0m\u001b[0m\n",
      "\u001b[1;32m----> 2\u001b[1;33m \u001b[1;36m1\u001b[0m\u001b[1;33m/\u001b[0m\u001b[1;36m0\u001b[0m  \u001b[1;31m# 0로 나누면 에러\u001b[0m\u001b[1;33m\u001b[0m\u001b[1;33m\u001b[0m\u001b[0m\n",
      "\u001b[0m\n",
      "\u001b[1;31mZeroDivisionError\u001b[0m: division by zero"
     ]
    }
   ],
   "source": [
    "# ZeroDivisionError: \n",
    "1/0  # 0로 나누면 에러"
   ]
  },
  {
   "cell_type": "code",
   "execution_count": null,
   "id": "cd8613ba",
   "metadata": {},
   "outputs": [
    {
     "data": {
      "text/plain": [
       "1.0"
      ]
     },
     "metadata": {},
     "output_type": "display_data"
    }
   ],
   "source": [
    "#Debugging ZeroDivisionError\n",
    "1/1  # 0가 아닌 다른걸로 나누어야함. "
   ]
  },
  {
   "cell_type": "markdown",
   "id": "f34abff0",
   "metadata": {},
   "source": [
    "#### IndentationError 들여쓰기를 잘못하면 나는 에러"
   ]
  },
  {
   "cell_type": "code",
   "execution_count": null,
   "id": "ecae8497",
   "metadata": {},
   "outputs": [
    {
     "ename": "IndentationError",
     "evalue": "expected an indented block (Temp/ipykernel_21836/200086448.py, line 4)",
     "output_type": "error",
     "traceback": [
      "\u001b[1;36m  File \u001b[1;32m\"C:\\Users\\dtv\\AppData\\Local\\Temp/ipykernel_21836/200086448.py\"\u001b[1;36m, line \u001b[1;32m4\u001b[0m\n",
      "\u001b[1;33m    print(a)\u001b[0m\n",
      "\u001b[1;37m    ^\u001b[0m\n",
      "\u001b[1;31mIndentationError\u001b[0m\u001b[1;31m:\u001b[0m expected an indented block\n"
     ]
    }
   ],
   "source": [
    "#IndentationError\n",
    "a=1\n",
    "if a==1:  #세미콜론뒤 뛰어 쓰기를 안하고 다음줄을 쓸때 에러\n",
    "print(a)\n"
   ]
  },
  {
   "cell_type": "code",
   "execution_count": null,
   "id": "cfbdd923",
   "metadata": {},
   "outputs": [
    {
     "name": "stdout",
     "output_type": "stream",
     "text": [
      "1\n"
     ]
    }
   ],
   "source": [
    "#Debugging IndentationError\n",
    "a=1\n",
    "if a==1:  #세미콜론뒤 다음줄은 4칸 들여쓰기 해준다.\n",
    "    print(a)"
   ]
  },
  {
   "cell_type": "markdown",
   "metadata": {},
   "source": [
    "## Q4. 한국 나이를 미국 나이로 변환하는 프로그램을 코딩해보자."
   ]
  },
  {
   "cell_type": "code",
   "execution_count": 7,
   "metadata": {},
   "outputs": [
    {
     "name": "stdout",
     "output_type": "stream",
     "text": [
      "당신의 미국 나이는 25 입니다.\n"
     ]
    }
   ],
   "source": [
    "korean_age = int(input('한국 나이를 입력해 주세요 : '))\n",
    "birth_day = int(input('생일이 지났으면 1번 아니면 2번을 입력해주세요 : '))\n",
    "if birth_day == 1 :\n",
    "    usa_age = korean_age - 1\n",
    "else:\n",
    "    usa_age = korean_age - 2\n",
    "print(\"당신의 미국 나이는 \" + str(usa_age) + \" 입니다.\")"
   ]
  }
 ],
 "metadata": {
  "kernelspec": {
   "display_name": "Python 3.9.13 64-bit",
   "language": "python",
   "name": "python3"
  },
  "language_info": {
   "codemirror_mode": {
    "name": "ipython",
    "version": 3
   },
   "file_extension": ".py",
   "mimetype": "text/x-python",
   "name": "python",
   "nbconvert_exporter": "python",
   "pygments_lexer": "ipython3",
   "version": "3.9.13"
  },
  "orig_nbformat": 4,
  "vscode": {
   "interpreter": {
    "hash": "b0fa6594d8f4cbf19f97940f81e996739fb7646882a419484c72d19e05852a7e"
   }
  }
 },
 "nbformat": 4,
 "nbformat_minor": 2
}

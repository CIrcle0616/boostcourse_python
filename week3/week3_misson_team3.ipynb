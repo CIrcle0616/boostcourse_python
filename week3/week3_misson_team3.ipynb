{
 "cells": [
  {
   "cell_type": "markdown",
   "metadata": {},
   "source": [
    "# Week3"
   ]
  },
  {
   "cell_type": "markdown",
   "metadata": {},
   "source": [
    "## Q1"
   ]
  },
  {
   "cell_type": "code",
   "execution_count": 5,
   "metadata": {},
   "outputs": [
    {
     "name": "stdout",
     "output_type": "stream",
     "text": [
      "숫자를 입력해주세요\n",
      "숫자를 입력해주세요\n",
      "3 단\n",
      "3 X 1 = 3\n",
      "3 X 3 = 9\n",
      "3 X 5 = 15\n",
      "3 X 7 = 21\n"
     ]
    }
   ],
   "source": [
    "while True:\n",
    "    try:\n",
    "        number = int(input(\"몇 단?: \"))\n",
    "        print(number, \"단\")\n",
    "        break\n",
    "    except ValueError:\n",
    "        print(\"숫자를 입력해주세요\")\n",
    "def gugudan(number):\n",
    "    for i in range(9):\n",
    "        if i % 2 == 1:\n",
    "            if i * number <= 50:\n",
    "                print(number, \"X\", i, \"=\", number * i)\n",
    "            else:\n",
    "                continue\n",
    "        \n",
    "gugudan(number)\n"
   ]
  },
  {
   "cell_type": "markdown",
   "metadata": {},
   "source": [
    "## Q2"
   ]
  },
  {
   "cell_type": "code",
   "execution_count": 39,
   "metadata": {},
   "outputs": [
    {
     "name": "stdout",
     "output_type": "stream",
     "text": [
      "가위 바위 보:  1\n",
      "컴퓨터:  바위 \n",
      " 0번째 결과: draw \n",
      "\n",
      "가위 바위 보:  2\n",
      "컴퓨터:  바위 \n",
      " 1번째 결과: win \n",
      "\n",
      "가위 바위 보:  3\n",
      "컴퓨터:  바위 \n",
      " 2번째 결과: draw \n",
      "\n",
      "가위 바위 보:  4\n",
      "컴퓨터:  바위 \n",
      " 3번째 결과: lose \n",
      "\n",
      "가위 바위 보:  5\n",
      "컴퓨터:  바위 \n",
      " 4번째 결과: lose \n",
      "\n",
      "가위 바위 보:  6\n",
      "컴퓨터:  바위 \n",
      " 5번째 결과: lose \n",
      "\n",
      "가위 바위 보:  7\n",
      "컴퓨터:  바위 \n",
      " 6번째 결과: lose \n",
      "\n",
      "가위 바위 보:  8\n",
      "컴퓨터:  바위 \n",
      " 7번째 결과: draw \n",
      "\n",
      "가위 바위 보:  9\n",
      "컴퓨터:  바위 \n",
      " 8번째 결과: lose \n",
      "\n",
      "가위 바위 보:  10\n",
      "컴퓨터:  바위 \n",
      " 9번째 결과: win \n",
      "\n",
      "나의 전젹: 2승 5패 3무\n",
      "컴퓨터의 전젹: 5승 2패 3무\n"
     ]
    }
   ],
   "source": [
    "import random\n",
    "\n",
    "list = [0, 1, 2, \"가위\", \"바위\", \"보\"]\n",
    "result = [\"draw\", \"lose\", \"win\"]\n",
    "games = 1\n",
    "while games > 0:\n",
    "    try:\n",
    "        games = int(input(\"몇 판을 진행하시겠습니까?: \"))\n",
    "        break\n",
    "    except ValueError:\n",
    "        print(\"숫자를 입력해주세요\")\n",
    "\n",
    "def rsp_advance(games):\n",
    "    count_draw, count_win, count_lose= 0, 0, 0\n",
    "    for i in range(games):\n",
    "        my = \"x\"\n",
    "        com = random.randint(0, 2)\n",
    "        print(\"가위 바위 보: \", i+1)\n",
    "        while my not in list:\n",
    "            my = input(\"0/가위, 1/바위, 2/보 중에 입력해주세요! \")\n",
    "            try:\n",
    "                my = int(my)\n",
    "            except:\n",
    "                my = list.index(my) - 3\n",
    "        outcome = result[my - com]\n",
    "        if outcome == \"draw\":\n",
    "            count_draw = count_draw + 1\n",
    "        if outcome == \"lose\":\n",
    "            count_lose = count_lose + 1\n",
    "        if outcome == \"win\":\n",
    "            count_win = count_win + 1\n",
    "        print(f\"컴퓨터:  {list[my + 3]} \\n {i}번째 결과: {outcome} \\n\")\n",
    "    print(f\"나의 전젹: {count_win}승 {count_lose}패 {count_draw}무\")\n",
    "    print(f\"컴퓨터의 전젹: {count_lose}승 {count_win}패 {count_draw}무\")\n",
    "rsp_advance(games)\n"
   ]
  },
  {
   "cell_type": "markdown",
   "metadata": {},
   "source": [
    "## Q3"
   ]
  },
  {
   "cell_type": "code",
   "execution_count": 4,
   "metadata": {},
   "outputs": [
    {
     "name": "stdout",
     "output_type": "stream",
     "text": [
      "2 짝수\n",
      "4 짝수\n",
      "6 중앙값\n",
      "8 짝수\n",
      "10 짝수\n"
     ]
    }
   ],
   "source": [
    "while True:\n",
    "    try:\n",
    "        n1 = int(input(\"첫번째 수를 입력헤주세요\"))\n",
    "        n2 = int(input(\"두번째 수를 입력헤주세요\"))\n",
    "        break\n",
    "    except:\n",
    "        print(\"숫 자를 입력해주세요\")\n",
    "numbers = [i for i in range(n1, n2+1)]\n",
    "def find_even_number(n1, n2):\n",
    "    for i in numbers:\n",
    "        if i % 2 == 0:\n",
    "            if i == (n1 + n2) / 2:\n",
    "                print(f\"{i} 중앙값\")\n",
    "            else:\n",
    "                print(f\"{i} 짝수\")\n",
    "find_even_number(n1, n2)"
   ]
  },
  {
   "cell_type": "markdown",
   "metadata": {},
   "source": [
    "## Q4"
   ]
  },
  {
   "cell_type": "code",
   "execution_count": 42,
   "metadata": {},
   "outputs": [
    {
     "name": "stdout",
     "output_type": "stream",
     "text": [
      "2\n",
      "3\n",
      "5\n",
      "7\n",
      "소수갯수: 4\n"
     ]
    }
   ],
   "source": [
    "while True:\n",
    "    try:\n",
    "        n = int(input(\"첫 번째 수 입력: \"))\n",
    "        m = int(input(\"두 번째 수 입력: \"))\n",
    "        break\n",
    "    except ValueError:\n",
    "        print(\"숫자를 입력해주세요.\")\n",
    "def count_prime_number(n, m):\n",
    "    count_prime = 0\n",
    "    if n > m:\n",
    "        n, m = m, n\n",
    "    for i in range(n, m+1):\n",
    "        if i == 1:\n",
    "            continue\n",
    "        count_div0 = 0\n",
    "        for j in range(2, i+1):\n",
    "            if i % (j-1) == 0:\n",
    "                count_div0 = count_div0 + 1\n",
    "        if count_div0 == 1:\n",
    "                count_prime = count_prime + 1\n",
    "                print(i)    \n",
    "    print(f\"소수갯수: {count_prime}\")\n",
    "count_prime_number(n,m)\n"
   ]
  }
 ],
 "metadata": {
  "kernelspec": {
   "display_name": "Python 3.9.12 ('base')",
   "language": "python",
   "name": "python3"
  },
  "language_info": {
   "codemirror_mode": {
    "name": "ipython",
    "version": 3
   },
   "file_extension": ".py",
   "mimetype": "text/x-python",
   "name": "python",
   "nbconvert_exporter": "python",
   "pygments_lexer": "ipython3",
   "version": "3.9.12"
  },
  "orig_nbformat": 4,
  "vscode": {
   "interpreter": {
    "hash": "397e9deae21f49c3e583a19b85572220c6920b1dd8d9982012edebf91228d231"
   }
  }
 },
 "nbformat": 4,
 "nbformat_minor": 2
}
